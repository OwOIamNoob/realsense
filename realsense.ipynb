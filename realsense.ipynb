{
 "cells": [
  {
   "cell_type": "code",
   "execution_count": 8,
   "metadata": {},
   "outputs": [],
   "source": [
    "import pyrealsense2 as pyrs\n",
    "import numpy\n",
    "import cv2\n",
    "from cv2 import aruco\n",
    "import matplotlib.pyplot as plt"
   ]
  },
  {
   "cell_type": "code",
   "execution_count": 5,
   "metadata": {},
   "outputs": [
    {
     "ename": "AttributeError",
     "evalue": "module 'pyrealsense2' has no attribute 'Service'",
     "output_type": "error",
     "traceback": [
      "\u001b[0;31m---------------------------------------------------------------------------\u001b[0m",
      "\u001b[0;31mAttributeError\u001b[0m                            Traceback (most recent call last)",
      "\u001b[1;32m/home/potato/uni/demo_calib/realsense.ipynb Cell 2\u001b[0m line \u001b[0;36m1\n\u001b[0;32m----> <a href='vscode-notebook-cell:/home/potato/uni/demo_calib/realsense.ipynb#W1sZmlsZQ%3D%3D?line=0'>1</a>\u001b[0m serv \u001b[39m=\u001b[39m pyrs\u001b[39m.\u001b[39;49mService()\n",
      "\u001b[0;31mAttributeError\u001b[0m: module 'pyrealsense2' has no attribute 'Service'"
     ]
    }
   ],
   "source": [
    "serv = pyrs.Service()"
   ]
  },
  {
   "cell_type": "code",
   "execution_count": 6,
   "metadata": {},
   "outputs": [],
   "source": [
    "try:\n",
    "    pipeline = pyrs.pipeline()\n",
    "    config = pyrs.config()\n",
    "    config.enable_stream(pyrs.stream.depth, 640, 480, pyrs.format.z16, 30)\n",
    "    pipeline.start(config)\n",
    "    frame = pipeline.wait_for_frames()\n",
    "    depth = frame.get_depth_frame()\n",
    "except Exception as e:\n",
    "    print(e)"
   ]
  },
  {
   "cell_type": "code",
   "execution_count": 10,
   "metadata": {},
   "outputs": [
    {
     "name": "stdout",
     "output_type": "stream",
     "text": [
      "<pyrealsense2.frame Z16 #1 @1700038864749.983154>\n"
     ]
    }
   ],
   "source": [
    "# plt.imshow(depth)\n",
    "print(depth)"
   ]
  },
  {
   "cell_type": "code",
   "execution_count": 11,
   "metadata": {},
   "outputs": [],
   "source": [
    "pipeline.stop()"
   ]
  },
  {
   "cell_type": "code",
   "execution_count": null,
   "metadata": {},
   "outputs": [],
   "source": []
  }
 ],
 "metadata": {
  "kernelspec": {
   "display_name": "ar",
   "language": "python",
   "name": "python3"
  },
  "language_info": {
   "codemirror_mode": {
    "name": "ipython",
    "version": 3
   },
   "file_extension": ".py",
   "mimetype": "text/x-python",
   "name": "python",
   "nbconvert_exporter": "python",
   "pygments_lexer": "ipython3",
   "version": "3.10.13"
  }
 },
 "nbformat": 4,
 "nbformat_minor": 2
}
