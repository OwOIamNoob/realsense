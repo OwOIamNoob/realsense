{
 "cells": [
  {
   "cell_type": "code",
   "execution_count": 1,
   "metadata": {},
   "outputs": [],
   "source": [
    "import cv2\n",
    "import numpy as np\n",
    "from cv2 import aruco\n",
    "import matplotlib.pyplot as plt\n",
    "import pyrealsense2 as rs\n",
    "import json"
   ]
  },
  {
   "cell_type": "markdown",
   "metadata": {},
   "source": [
    "Set up camera and retrieve intrinsics info"
   ]
  },
  {
   "cell_type": "code",
   "execution_count": 2,
   "metadata": {},
   "outputs": [],
   "source": [
    "config = rs.config()\n",
    "pipeline = rs.pipeline()\n",
    "pipeline_wrapper = rs.pipeline_wrapper(pipeline)\n",
    "pipeline_profile = config.resolve(pipeline_wrapper)\n",
    "device = pipeline_profile.get_device()\n",
    "device_product_line = str(device.get_info(rs.camera_info.product_line))\n"
   ]
  },
  {
   "cell_type": "code",
   "execution_count": 3,
   "metadata": {},
   "outputs": [],
   "source": [
    "rgb_available = False\n",
    "for s in device.sensors:\n",
    "    if s.get_info(rs.camera_info.name) == 'RGB Camera':\n",
    "        rgb_available = True\n",
    "        break\n",
    "if not rgb_available:\n",
    "    exit(0)"
   ]
  },
  {
   "cell_type": "code",
   "execution_count": 4,
   "metadata": {},
   "outputs": [],
   "source": [
    "config.enable_stream(rs.stream.depth, 640, 480, rs.format.z16, 30)\n",
    "config.enable_stream(rs.stream.color, 640, 480, rs.format.bgr8, 30)\n",
    "\n"
   ]
  },
  {
   "cell_type": "code",
   "execution_count": 6,
   "metadata": {},
   "outputs": [],
   "source": [
    "profile = pipeline.start(config)"
   ]
  },
  {
   "cell_type": "code",
   "execution_count": 7,
   "metadata": {},
   "outputs": [
    {
     "name": "stdout",
     "output_type": "stream",
     "text": [
      "0.0010000000474974513 [ 640x480  p[318.766 241.985]  f[609.116 608.212]  Inverse Brown Conrady [0 0 0 0 0] ]\n"
     ]
    }
   ],
   "source": [
    "depth_scale = profile.get_device().first_depth_sensor().get_depth_scale()\n",
    "intrinsics = rs.video_stream_profile(profile.get_stream(rs.stream.color)).get_intrinsics()\n",
    "print(depth_scale, intrinsics)"
   ]
  },
  {
   "cell_type": "code",
   "execution_count": 9,
   "metadata": {},
   "outputs": [
    {
     "name": "stdout",
     "output_type": "stream",
     "text": [
      "241.9846649169922\n"
     ]
    }
   ],
   "source": [
    "print(intrinsics.ppy)"
   ]
  },
  {
   "cell_type": "code",
   "execution_count": 8,
   "metadata": {},
   "outputs": [],
   "source": [
    "def compose_intrinsic_matrix(intrinsics, export_distort=False):\n",
    "    if not export_distort:\n",
    "        return np.array([[intrinsics.fx, 0, intrinsics.ppx],\n",
    "                         [0, intrinsics.fy, intrinsics.ppy],\n",
    "                         [0, 0, 1]])\n",
    "    else:\n",
    "        return np.array([[intrinsics.fx, 0, intrinsics.ppx],\n",
    "                         [0, intrinsics.fy, intrinsics.ppy],\n",
    "                         [0, 0, 1]]), intrinsics.coeffs\n"
   ]
  },
  {
   "cell_type": "code",
   "execution_count": 9,
   "metadata": {},
   "outputs": [
    {
     "name": "stdout",
     "output_type": "stream",
     "text": [
      "[[609.11572266   0.         318.76638794]\n",
      " [  0.         608.21179199 241.98466492]\n",
      " [  0.           0.           1.        ]] [0.0, 0.0, 0.0, 0.0, 0.0]\n"
     ]
    }
   ],
   "source": [
    "cam_mtx, coeff = compose_intrinsic_matrix(intrinsics, export_distort=True)\n",
    "print(cam_mtx, coeff)"
   ]
  },
  {
   "cell_type": "code",
   "execution_count": 10,
   "metadata": {},
   "outputs": [],
   "source": [
    "align_to = rs.stream.color\n",
    "align = rs.align(align_to)"
   ]
  },
  {
   "cell_type": "markdown",
   "metadata": {},
   "source": [
    "Configuring depth sensor"
   ]
  },
  {
   "cell_type": "code",
   "execution_count": 11,
   "metadata": {},
   "outputs": [],
   "source": [
    "import json"
   ]
  },
  {
   "cell_type": "code",
   "execution_count": 12,
   "metadata": {},
   "outputs": [],
   "source": [
    "file = open(\"/home/nguyen/uni/cv/realsense/demo_calib/data/config4.json\", \"r\")\n",
    "as_json_object = json.load(file)\n",
    "\n",
    "    # We can also load controls from a json string\n",
    "    # For Python 2, the values in 'as_json_object' dict need to be converted from unicode object to utf-8\n",
    "if type(next(iter(as_json_object))) != str:\n",
    "    as_json_object = {k.encode('utf-8'): v.encode(\"utf-8\") for k, v in as_json_object.items()}\n",
    "# print(as_json_object)\n",
    "json_string = str(as_json_object).replace(\"'\", '\\\"')"
   ]
  },
  {
   "cell_type": "code",
   "execution_count": 13,
   "metadata": {},
   "outputs": [],
   "source": [
    "depth_sensor, color_sensor = profile.get_device().query_sensors()\n",
    "dev = profile.get_device()\n",
    "adv_mode = rs.rs400_advanced_mode(dev)\n",
    "adv_mode.load_json(json_string)"
   ]
  },
  {
   "cell_type": "code",
   "execution_count": 18,
   "metadata": {},
   "outputs": [
    {
     "data": {
      "text/plain": [
       "<pyrealsense2.pyrealsense2.pipeline_profile at 0x7f221b9ac130>"
      ]
     },
     "execution_count": 18,
     "metadata": {},
     "output_type": "execute_result"
    }
   ],
   "source": [
    "pipeline.start()"
   ]
  },
  {
   "cell_type": "markdown",
   "metadata": {},
   "source": [
    "Grab frame"
   ]
  },
  {
   "cell_type": "code",
   "execution_count": 22,
   "metadata": {},
   "outputs": [
    {
     "ename": "RuntimeError",
     "evalue": "Frame didn't arrive within 5000",
     "output_type": "error",
     "traceback": [
      "\u001b[0;31m---------------------------------------------------------------------------\u001b[0m",
      "\u001b[0;31mRuntimeError\u001b[0m                              Traceback (most recent call last)",
      "Cell \u001b[0;32mIn[22], line 1\u001b[0m\n\u001b[0;32m----> 1\u001b[0m frame \u001b[39m=\u001b[39m pipeline\u001b[39m.\u001b[39;49mwait_for_frames()\n\u001b[1;32m      2\u001b[0m aligned_frame \u001b[39m=\u001b[39m align\u001b[39m.\u001b[39mprocess(frame)\n\u001b[1;32m      3\u001b[0m depth_frame \u001b[39m=\u001b[39m np\u001b[39m.\u001b[39marray(aligned_frame\u001b[39m.\u001b[39mget_depth_frame()\u001b[39m.\u001b[39mget_data())\n",
      "\u001b[0;31mRuntimeError\u001b[0m: Frame didn't arrive within 5000"
     ]
    }
   ],
   "source": [
    "frame = pipeline.wait_for_frames()\n",
    "aligned_frame = align.process(frame)\n",
    "depth_frame = np.array(aligned_frame.get_depth_frame().get_data())\n",
    "color_frame = np.array(aligned_frame.get_color_frame().get_data())[:, :, ::-1]\n",
    "# plt.imshow(color_frame)\n",
    "plt.figure(figsize=(10, 10))\n",
    "ax1 = plt.subplot(121)\n",
    "ax1.imshow(color_frame[:, :, ::-1])\n",
    "ax2 = plt.subplot(122)\n",
    "ax2.imshow(depth_frame, cmap='plasma')"
   ]
  },
  {
   "cell_type": "code",
   "execution_count": 20,
   "metadata": {},
   "outputs": [],
   "source": [
    "temp_filter = rs.temporal_filter(0.1, 80, 6)\n",
    "spat_filter = rs.spatial_filter(0.4, 40, 4, 1)\n",
    "hole_filter = rs.hole_filling_filter(0)"
   ]
  },
  {
   "cell_type": "code",
   "execution_count": 62,
   "metadata": {},
   "outputs": [],
   "source": [
    "depth_frame = aligned_frame.get_depth_frame()\n",
    "depth_frame = rs.disparity_transform(True).process(depth_frame)\n",
    "depth_frame = spat_filter.process(depth_frame)\n",
    "depth_frame = temp_filter.process(depth_frame)\n",
    "depth_frame = hole_filter.process(depth_frame)\n",
    "depth_frame = rs.disparity_transform(False).process(depth_frame)"
   ]
  },
  {
   "cell_type": "code",
   "execution_count": 21,
   "metadata": {},
   "outputs": [
    {
     "ename": "NameError",
     "evalue": "name 'depth_frame' is not defined",
     "output_type": "error",
     "traceback": [
      "\u001b[0;31m---------------------------------------------------------------------------\u001b[0m",
      "\u001b[0;31mNameError\u001b[0m                                 Traceback (most recent call last)",
      "Cell \u001b[0;32mIn[21], line 1\u001b[0m\n\u001b[0;32m----> 1\u001b[0m img \u001b[39m=\u001b[39m np\u001b[39m.\u001b[39marray(depth_frame\u001b[39m.\u001b[39mget_data())\n\u001b[1;32m      2\u001b[0m plt\u001b[39m.\u001b[39mimshow(img)\n",
      "\u001b[0;31mNameError\u001b[0m: name 'depth_frame' is not defined"
     ]
    }
   ],
   "source": [
    "img = np.array(depth_frame.get_data())\n",
    "plt.imshow(img)"
   ]
  },
  {
   "cell_type": "code",
   "execution_count": 1,
   "metadata": {},
   "outputs": [
    {
     "ename": "NameError",
     "evalue": "name 'pipeline' is not defined",
     "output_type": "error",
     "traceback": [
      "\u001b[0;31m---------------------------------------------------------------------------\u001b[0m",
      "\u001b[0;31mNameError\u001b[0m                                 Traceback (most recent call last)",
      "Cell \u001b[0;32mIn[1], line 1\u001b[0m\n\u001b[0;32m----> 1\u001b[0m pipeline\u001b[39m.\u001b[39mstop()\n",
      "\u001b[0;31mNameError\u001b[0m: name 'pipeline' is not defined"
     ]
    }
   ],
   "source": [
    "pipeline.stop()"
   ]
  },
  {
   "cell_type": "code",
   "execution_count": null,
   "metadata": {},
   "outputs": [],
   "source": []
  }
 ],
 "metadata": {
  "kernelspec": {
   "display_name": "ar",
   "language": "python",
   "name": "python3"
  },
  "language_info": {
   "codemirror_mode": {
    "name": "ipython",
    "version": 3
   },
   "file_extension": ".py",
   "mimetype": "text/x-python",
   "name": "python",
   "nbconvert_exporter": "python",
   "pygments_lexer": "ipython3",
   "version": "3.10.13"
  }
 },
 "nbformat": 4,
 "nbformat_minor": 2
}
